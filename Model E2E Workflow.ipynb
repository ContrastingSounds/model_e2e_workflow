{
 "cells": [
  {
   "cell_type": "code",
   "execution_count": 1,
   "metadata": {},
   "outputs": [],
   "source": [
    "import os\n",
    "import subprocess"
   ]
  },
  {
   "cell_type": "code",
   "execution_count": 2,
   "metadata": {},
   "outputs": [],
   "source": [
    "import looker_sdk\n",
    "from looker_sdk import models"
   ]
  },
  {
   "cell_type": "code",
   "execution_count": 3,
   "metadata": {},
   "outputs": [],
   "source": [
    "INSTANCE = 'pebl.dev.looker.com'\n",
    "CONN = 'jon-bq'\n",
    "PROJECT = 'model_e2e_workflow'\n",
    "GIT_USER = 'ContrastingSounds'\n",
    "GIT_TOKEN = os.environ['GITHUB_CLI_TOKEN']"
   ]
  },
  {
   "cell_type": "code",
   "execution_count": 4,
   "metadata": {},
   "outputs": [],
   "source": [
    "sdk = looker_sdk.init31()"
   ]
  },
  {
   "cell_type": "markdown",
   "metadata": {},
   "source": [
    "### 1. Create or Validate a database connection"
   ]
  },
  {
   "cell_type": "code",
   "execution_count": 5,
   "metadata": {},
   "outputs": [],
   "source": [
    "connection = sdk.connection(CONN)"
   ]
  },
  {
   "cell_type": "code",
   "execution_count": 6,
   "metadata": {},
   "outputs": [
    {
     "data": {
      "text/plain": [
       "['connect', 'kill', 'query', 'database_timezone', 'tmp_db', 'cdt']"
      ]
     },
     "execution_count": 6,
     "metadata": {},
     "output_type": "execute_result"
    }
   ],
   "source": [
    "connection.dialect.connection_tests"
   ]
  },
  {
   "cell_type": "code",
   "execution_count": 7,
   "metadata": {},
   "outputs": [
    {
     "name": "stdout",
     "output_type": "stream",
     "text": [
      "[DBConnectionTestResult(can={}, connection_string='jdbc:BQDriver::scratchenvironment/empty?withServiceAccount=true&userAgent=Looker%2F7.0.6+%28GPN%3ALooker%3B%29&readTimeout=240000&connectTimeout=240000&useLegacySql=false', message='Can connect', name='connect', status='success'), DBConnectionTestResult(can={}, connection_string=None, message='Can cancel queries', name='kill', status='success'), DBConnectionTestResult(can={}, connection_string=None, message='Can run simple select query', name='query', status='success'), DBConnectionTestResult(can={}, connection_string=None, message='Can find temp schema \"looker_scratch\"', name='tmp_db', status='success'), DBConnectionTestResult(can={}, connection_string=None, message='Can use persistent derived tables in \"looker_scratch\"', name='cdt', status='success')]\n"
     ]
    }
   ],
   "source": [
    "test_results = sdk.test_connection(connection.name, models.DelimSequence(connection.dialect.connection_tests))\n",
    "print(test_results)"
   ]
  },
  {
   "cell_type": "markdown",
   "metadata": {},
   "source": [
    "### 2. Create repo on origin"
   ]
  },
  {
   "cell_type": "code",
   "execution_count": 8,
   "metadata": {},
   "outputs": [],
   "source": [
    "!rm -rf .git"
   ]
  },
  {
   "cell_type": "code",
   "execution_count": 9,
   "metadata": {},
   "outputs": [
    {
     "name": "stdout",
     "output_type": "stream",
     "text": [
      "Initialized empty Git repository in /Users/looker/Documents/GitHub/model_e2e_workflow/.git/\r\n"
     ]
    }
   ],
   "source": [
    "!git init"
   ]
  },
  {
   "cell_type": "code",
   "execution_count": 10,
   "metadata": {},
   "outputs": [],
   "source": [
    "!git add ."
   ]
  },
  {
   "cell_type": "code",
   "execution_count": 11,
   "metadata": {},
   "outputs": [
    {
     "name": "stdout",
     "output_type": "stream",
     "text": [
      "[master (root-commit) 0f7393c] first commit\r\n",
      " 2 files changed, 82 insertions(+)\r\n",
      " create mode 100644 .gitignore\r\n",
      " create mode 100644 test.model.lkml\r\n"
     ]
    }
   ],
   "source": [
    "!git commit -m \"first commit\""
   ]
  },
  {
   "cell_type": "code",
   "execution_count": 12,
   "metadata": {},
   "outputs": [
    {
     "name": "stdout",
     "output_type": "stream",
     "text": [
      "Updating origin\n",
      "https://github.com/ContrastingSounds/model_e2e_workflow\n"
     ]
    }
   ],
   "source": [
    "!hub create"
   ]
  },
  {
   "cell_type": "code",
   "execution_count": 13,
   "metadata": {},
   "outputs": [
    {
     "name": "stdout",
     "output_type": "stream",
     "text": [
      "Enumerating objects: 4, done.\n",
      "Counting objects: 100% (4/4), done.\n",
      "Delta compression using up to 4 threads\n",
      "Compressing objects: 100% (3/3), done.\n",
      "Writing objects: 100% (4/4), 678 bytes | 678.00 KiB/s, done.\n",
      "Total 4 (delta 0), reused 0 (delta 0)\n",
      "To github.com:ContrastingSounds/model_e2e_workflow.git\n",
      " * [new branch]      HEAD -> master\n",
      "Branch 'master' set up to track remote branch 'master' from 'origin'.\n"
     ]
    }
   ],
   "source": [
    "!git push -u origin HEAD"
   ]
  },
  {
   "cell_type": "code",
   "execution_count": 14,
   "metadata": {},
   "outputs": [
    {
     "name": "stdout",
     "output_type": "stream",
     "text": [
      "0f7393cbad9ca4829e183725fc7ecca1230f4fd2\n"
     ]
    }
   ],
   "source": [
    "# Run `git rev-parse HEAD` to get commit SHA \n",
    "# https://stackoverflow.com/questions/4760215/running-shell-command-and-capturing-the-output\n",
    "git_SHA = subprocess.run(['git', 'rev-parse', 'HEAD'], stdout=subprocess.PIPE).stdout.decode('utf-8').strip()\n",
    "print(git_SHA)"
   ]
  },
  {
   "cell_type": "markdown",
   "metadata": {},
   "source": [
    "### 3. Create Project"
   ]
  },
  {
   "cell_type": "code",
   "execution_count": 15,
   "metadata": {},
   "outputs": [
    {
     "data": {
      "text/plain": [
       "ApiSession(can={'view': True, 'update': True}, workspace_id='dev', sudo_user_id=None)"
      ]
     },
     "execution_count": 15,
     "metadata": {},
     "output_type": "execute_result"
    }
   ],
   "source": [
    "sdk.update_session(body=models.WriteApiSession(workspace_id=\"dev\"))"
   ]
  },
  {
   "cell_type": "code",
   "execution_count": 16,
   "metadata": {},
   "outputs": [],
   "source": [
    "# CREATE PROJECT\n",
    "git_remote_url = ''.join(['https://github.com/', GIT_USER, '/', PROJECT, '.git'])\n",
    "body = models.WriteProject(\n",
    "    name=PROJECT, \n",
    "    git_service_name=\"github\", \n",
    ")\n",
    "project = sdk.create_project(body)"
   ]
  },
  {
   "cell_type": "code",
   "execution_count": 17,
   "metadata": {},
   "outputs": [],
   "source": [
    "# HTTPS CONFIG – SET USERNAME & PASSWORD / TOKEN\n",
    "git_remote_url = ''.join(['https://github.com/', GIT_USER, '/', PROJECT, '.git'])\n",
    "body = models.WriteProject(\n",
    "    git_username=GIT_USER,\n",
    "    git_password=GIT_TOKEN,\n",
    "    git_remote_url=git_remote_url,\n",
    ")\n",
    "project = sdk.update_project(PROJECT, body)"
   ]
  },
  {
   "cell_type": "code",
   "execution_count": 18,
   "metadata": {},
   "outputs": [],
   "source": [
    "# SSH CONFIG – CREATE DEPLOY KEY BEFORE SETTING REMOTE URL\n",
    "# deploy_key = sdk.create_git_deploy_key(PROJECT)"
   ]
  },
  {
   "cell_type": "code",
   "execution_count": 19,
   "metadata": {},
   "outputs": [],
   "source": [
    "# SSH CONFIG – SET GIT REMOTE URL\n",
    "# git_remote_url = ''.join(['git@github.com:', GIT_USER, '/', PROJECT, '.git'])\n",
    "# body = models.WriteProject(\n",
    "#     name=project.name,\n",
    "#     git_remote_url=git_remote_url,\n",
    "# )\n",
    "# updated_project = sdk.update_project(PROJECT, body)"
   ]
  },
  {
   "cell_type": "code",
   "execution_count": 20,
   "metadata": {},
   "outputs": [],
   "source": [
    "# SET PULL REQUEST MODE\n",
    "body = models.WriteProject(\n",
    "    name=PROJECT,\n",
    "    pull_request_mode='required',\n",
    ")\n",
    "updated_project = sdk.update_project(PROJECT, body)"
   ]
  },
  {
   "cell_type": "markdown",
   "metadata": {},
   "source": [
    "### 4. Deploy to Production "
   ]
  },
  {
   "cell_type": "code",
   "execution_count": 21,
   "metadata": {},
   "outputs": [
    {
     "data": {
      "text/plain": [
       "GitBranch(can={}, name='dev-jon-walls-mggt', remote='origin', remote_name='dev-jon-walls-mggt', error=None, message=None, owner_name='Jon Walls', readonly=False, personal=True, is_local=True, is_remote=False, is_production=False, ahead_count=None, behind_count=None, commit_at=1590762402, ref='6d8f1574a35908b2f972a3ea738fef66903b3b7e', remote_ref=None)"
      ]
     },
     "execution_count": 21,
     "metadata": {},
     "output_type": "execute_result"
    }
   ],
   "source": [
    "# Setting the local branch to the master commit ref on remote \n",
    "body = models.WriteGitBranch(\n",
    "    ref=git_SHA\n",
    ")\n",
    "sdk.update_git_branch(PROJECT, body)"
   ]
  },
  {
   "cell_type": "code",
   "execution_count": 22,
   "metadata": {},
   "outputs": [
    {
     "data": {
      "text/plain": [
       "''"
      ]
     },
     "execution_count": 22,
     "metadata": {},
     "output_type": "execute_result"
    }
   ],
   "source": [
    "sdk.deploy_to_production(PROJECT)"
   ]
  },
  {
   "cell_type": "code",
   "execution_count": 23,
   "metadata": {},
   "outputs": [],
   "source": [
    "### 5. Testing steps"
   ]
  },
  {
   "cell_type": "code",
   "execution_count": 24,
   "metadata": {},
   "outputs": [],
   "source": [
    "!echo '# Testing deploy hook' >> test.model.lkml"
   ]
  },
  {
   "cell_type": "code",
   "execution_count": 25,
   "metadata": {},
   "outputs": [],
   "source": [
    "!git add ."
   ]
  },
  {
   "cell_type": "code",
   "execution_count": 26,
   "metadata": {},
   "outputs": [
    {
     "name": "stdout",
     "output_type": "stream",
     "text": [
      "[master 0a1ba1b] Testing deploy hook\r\n",
      " 1 file changed, 1 insertion(+)\r\n"
     ]
    }
   ],
   "source": [
    "!git commit -m 'Testing deploy hook'"
   ]
  },
  {
   "cell_type": "code",
   "execution_count": 27,
   "metadata": {},
   "outputs": [
    {
     "name": "stdout",
     "output_type": "stream",
     "text": [
      "Enumerating objects: 5, done.\n",
      "Counting objects: 100% (5/5), done.\n",
      "Delta compression using up to 4 threads\n",
      "Compressing objects: 100% (3/3), done.\n",
      "Writing objects: 100% (3/3), 366 bytes | 366.00 KiB/s, done.\n",
      "Total 3 (delta 1), reused 0 (delta 0)\n",
      "remote: Resolving deltas: 100% (1/1), completed with 1 local object.\u001b[K\n",
      "To github.com:ContrastingSounds/model_e2e_workflow.git\n",
      "   0f7393c..0a1ba1b  master -> master\n"
     ]
    }
   ],
   "source": [
    "!git push origin"
   ]
  },
  {
   "cell_type": "code",
   "execution_count": 28,
   "metadata": {},
   "outputs": [
    {
     "name": "stdout",
     "output_type": "stream",
     "text": [
      "/webhooks/projects/model_e2e_workflow/deploy\n"
     ]
    }
   ],
   "source": [
    "deploy_hook = '/'.join(['', 'webhooks', 'projects', PROJECT, 'deploy'])\n",
    "print(deploy_hook)"
   ]
  },
  {
   "cell_type": "code",
   "execution_count": 29,
   "metadata": {},
   "outputs": [
    {
     "name": "stdout",
     "output_type": "stream",
     "text": [
      "Status: 200 and reason: OK\n"
     ]
    }
   ],
   "source": [
    "import http.client\n",
    "\n",
    "connection = http.client.HTTPSConnection(INSTANCE)\n",
    "connection.request(\"GET\", deploy_hook)\n",
    "response = connection.getresponse()\n",
    "print(\"Status: {} and reason: {}\".format(response.status, response.reason))\n",
    "\n",
    "connection.close()"
   ]
  },
  {
   "cell_type": "code",
   "execution_count": null,
   "metadata": {},
   "outputs": [],
   "source": []
  }
 ],
 "metadata": {
  "kernelspec": {
   "display_name": "Python 3",
   "language": "python",
   "name": "python3"
  },
  "language_info": {
   "codemirror_mode": {
    "name": "ipython",
    "version": 3
   },
   "file_extension": ".py",
   "mimetype": "text/x-python",
   "name": "python",
   "nbconvert_exporter": "python",
   "pygments_lexer": "ipython3",
   "version": "3.7.4"
  }
 },
 "nbformat": 4,
 "nbformat_minor": 2
}
